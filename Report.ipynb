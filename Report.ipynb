{
 "cells": [
  {
   "cell_type": "markdown",
   "id": "156a1f90",
   "metadata": {},
   "source": [
    "# Navigation Project report\n",
    "\n",
    "A number of different agents were created to solve the 'Banana Navigation' game. A combination of These were:\n",
    "\n",
    "1. Basic Deep Queue Network using experience replay, using a linear neural network model\n",
    "2. Similar to 1, but including a 'Double' network\n",
    "3. Building on 2, but also including a 'Dueling' network\n",
    "4. Prioritised experience replay\n",
    "\n",
    "All of these implementations 'solved' the solution in so much as they achieved an average score over 100 episodes > 13. Results of these are shown below.\n",
    "\n",
    "\n"
   ]
  },
  {
   "cell_type": "markdown",
   "id": "6e8a152d",
   "metadata": {},
   "source": [
    "## Architected for experimenting\n",
    "\n",
    "The code implemented can be broadly broken down into three main areas:\n",
    "- Agents classes\n",
    "- NN models classes\n",
    "- Experience Replay buffers classes\n",
    "\n",
    "The goal is that these three elements can be mixed and matched in order to make it easy to experiment with different configurations.\n",
    "\n",
    "So for example a different neural network model could be implemented and easily tested with both a normal experience replay buffer or a prioritised replay buffer and both of these configurations could utilise Double Q-Learning or not.\n",
    "\n",
    "### Agents\n",
    "A base agent class (BaseAgent) was implemented to support some common methods and attributes. Two sub classes were created, one to support basic replay buffers and the other to support priority experience type replay buffers. Currently the type of replay buffer is hard-coded to the specific agent, but this could be parameterised.\n",
    "\n",
    "### NN Models\n",
    "Any model can be used in conjunction with any of the agents implemented. Three models have been implemented:\n",
    "- Basic linear model with three layers. The number of units for the two hidden layers can be provided as parameters\n",
    "- Dueling linear model\n",
    "- Conv2d model, specifically for the image based state\n",
    "\n",
    "### Experience Replay buffers\n",
    "Two replay buffers have been implemented:\n",
    "- ReplayBuffer: simply stores experiences and samples randomly\n",
    "- PrioritizedReplayBuffer: this uses a sumtree to manage the prioritized experiences.\n",
    "\n",
    "#### Prioritized Replay Buffer\n",
    "The experiences themselves are stored in an array, with the adjusted priorities stored in a sumtree. \n",
    "\n",
    "When an experience is added its priority is not initially known (as this will only happen when sampled). As described in the paper [Prioritized Experience Replay](https://arxiv.org/pdf/1511.05952.pdf) all experiences should be sampled at least once, so these experiences are initially given a priority of 0 and put in a 'not prioritised' queue. When a request to provide a sample is made these unprioritised experiences will be provided before any other experiences. After an experience has been sampled its priority will be updated.\n",
    "\n",
    "Priorities are adjusted by a constant, alpha as described in the paper.\n",
    "\n",
    "Importance sampling weights are calculated when experiences are sampled and returned with the samples, so that the loss can be adjusted by these weights.\n",
    "\n",
    "Both the alpha and beta (used in calculating importance sampling weights) constants are periodically adjusted. Alpha decaying slowly and beta annealing to 1. The constants for alpha and beta have been taken from the paper.\n",
    "\n",
    "Sampling uses the priority of the experience. I divide the priority space into equal sized segments (batch size number of them) and then uniformally sample from these segments. I believe this is what the paper describes.\n",
    "\n"
   ]
  },
  {
   "cell_type": "markdown",
   "id": "1c94c71f",
   "metadata": {},
   "source": [
    "## Learning algorithms\n",
    "\n",
    "Something about the learning algorithms\n",
    "### Experience replay\n",
    "The fundamental approach adopted is described in the paper [Human-level control through deep reinforcement\n",
    "learning](https://storage.googleapis.com/deepmind-media/dqn/DQNNaturePaper.pdf). The implementation uses two neural networks and an experience replay buffer.\n",
    "\n",
    "### Double Q-learning\n",
    "[Deep Reinforcement Learning with Double Q-learning](https://arxiv.org/pdf/1509.06461.pdf) attempts to tackle the known problem of action values being overestimated in certain conditions. \n",
    "For DQN using the same values both to select and to evaluate an action makes it more likely that this overestimate will occur.\n",
    "To prevent this the selection and evaluation of actions is decoupled. The selection of the action (using argmax) uses the local (online) network, whereas the evaluation uses the the target network.\n",
    "In this implementation the base agent class (AgentBase) implements this feature so that it can be utilised independently of other features that may be used.\n",
    "\n",
    "### Dueling network architectures\n",
    "A duel network architecture as described in the paper [Dueling Network Architectures for Deep Reinforcement Learning](https://arxiv.org/pdf/1511.06581.pdf) has been demonstrated to improve the performance of a reinforcment learning agent.\n",
    "This approach has been implemented as the model DuelingQNetwork\n",
    "\n",
    "### Prioritized Experience Replay\n",
    "A prioritised experience replay buffer as described in the paper [Prioritized Experience Replay](https://arxiv.org/pdf/1511.05952.pdf) has been implemented.\n",
    "\n"
   ]
  },
  {
   "cell_type": "markdown",
   "id": "bc644e0f",
   "metadata": {},
   "source": [
    "## Plot of rewards Rewards"
   ]
  },
  {
   "cell_type": "code",
   "execution_count": 1,
   "id": "0e2627d8",
   "metadata": {
    "scrolled": true
   },
   "outputs": [
    {
     "name": "stderr",
     "output_type": "stream",
     "text": [
      "INFO:unityagents:\n",
      "'Academy' started successfully!\n",
      "Unity Academy name: Academy\n",
      "        Number of Brains: 1\n",
      "        Number of External Brains : 1\n",
      "        Lesson number : 0\n",
      "        Reset Parameters :\n",
      "\t\t\n",
      "Unity brain name: BananaBrain\n",
      "        Number of Visual Observations (per agent): 0\n",
      "        Vector Observation space type: continuous\n",
      "        Vector Observation space size (per agent): 37\n",
      "        Number of stacked Vector Observation: 1\n",
      "        Vector Action space type: discrete\n",
      "        Vector Action space size (per agent): 4\n",
      "        Vector Action descriptions: , , , \n"
     ]
    },
    {
     "name": "stdout",
     "output_type": "stream",
     "text": [
      "Number of actions: 4\n",
      "Number of agents: 1\n",
      "States look like: [1.         0.         0.         0.         0.84408134 0.\n",
      " 0.         1.         0.         0.0748472  0.         1.\n",
      " 0.         0.         0.25755    1.         0.         0.\n",
      " 0.         0.74177343 0.         1.         0.         0.\n",
      " 0.25854847 0.         0.         1.         0.         0.09355672\n",
      " 0.         1.         0.         0.         0.31969345 0.\n",
      " 0.        ]\n",
      "States have length: 37\n",
      "Testing ddqn_with_prioritized_experiences_qnetwork\n",
      "Episode 5\tAverage Score: 16.00"
     ]
    },
    {
     "ename": "KeyboardInterrupt",
     "evalue": "",
     "output_type": "error",
     "traceback": [
      "\u001b[0;31m---------------------------------------------------------------------------\u001b[0m",
      "\u001b[0;31mKeyboardInterrupt\u001b[0m                         Traceback (most recent call last)",
      "\u001b[0;32m<ipython-input-1-9f97fb3f77a8>\u001b[0m in \u001b[0;36m<module>\u001b[0;34m\u001b[0m\n\u001b[1;32m     68\u001b[0m                              \u001b[0mn_episodes\u001b[0m\u001b[0;34m=\u001b[0m\u001b[0;36m100\u001b[0m\u001b[0;34m,\u001b[0m\u001b[0;34m\u001b[0m\u001b[0;34m\u001b[0m\u001b[0m\n\u001b[1;32m     69\u001b[0m                              \u001b[0meps_start\u001b[0m\u001b[0;34m=\u001b[0m\u001b[0;36m0.01\u001b[0m\u001b[0;34m,\u001b[0m\u001b[0;34m\u001b[0m\u001b[0;34m\u001b[0m\u001b[0m\n\u001b[0;32m---> 70\u001b[0;31m                              checkpoint=13)\n\u001b[0m\u001b[1;32m     71\u001b[0m \u001b[0;34m\u001b[0m\u001b[0m\n\u001b[1;32m     72\u001b[0m \u001b[0;34m\u001b[0m\u001b[0m\n",
      "\u001b[0;32m~/projects/education/udacity/rl/projects/rl_navigation/lib/dqn.py\u001b[0m in \u001b[0;36mdqn\u001b[0;34m(env, brain_name, agent, train_mode, n_episodes, max_t, eps_start, eps_end, eps_decay, checkpoint, get_state)\u001b[0m\n\u001b[1;32m     39\u001b[0m         \u001b[0;32mfor\u001b[0m \u001b[0mt\u001b[0m \u001b[0;32min\u001b[0m \u001b[0mrange\u001b[0m\u001b[0;34m(\u001b[0m\u001b[0mmax_t\u001b[0m\u001b[0;34m)\u001b[0m\u001b[0;34m:\u001b[0m\u001b[0;34m\u001b[0m\u001b[0;34m\u001b[0m\u001b[0m\n\u001b[1;32m     40\u001b[0m             \u001b[0maction\u001b[0m \u001b[0;34m=\u001b[0m \u001b[0magent\u001b[0m\u001b[0;34m.\u001b[0m\u001b[0mact\u001b[0m\u001b[0;34m(\u001b[0m\u001b[0mstate\u001b[0m\u001b[0;34m,\u001b[0m \u001b[0meps\u001b[0m\u001b[0;34m)\u001b[0m\u001b[0;34m\u001b[0m\u001b[0;34m\u001b[0m\u001b[0m\n\u001b[0;32m---> 41\u001b[0;31m             \u001b[0menv_info\u001b[0m \u001b[0;34m=\u001b[0m \u001b[0menv\u001b[0m\u001b[0;34m.\u001b[0m\u001b[0mstep\u001b[0m\u001b[0;34m(\u001b[0m\u001b[0maction\u001b[0m\u001b[0;34m)\u001b[0m\u001b[0;34m[\u001b[0m\u001b[0mbrain_name\u001b[0m\u001b[0;34m]\u001b[0m        \u001b[0;31m# send the action to the environment\u001b[0m\u001b[0;34m\u001b[0m\u001b[0;34m\u001b[0m\u001b[0m\n\u001b[0m\u001b[1;32m     42\u001b[0m             \u001b[0mnext_state\u001b[0m \u001b[0;34m=\u001b[0m \u001b[0mget_state\u001b[0m\u001b[0;34m(\u001b[0m\u001b[0menv_info\u001b[0m\u001b[0;34m)\u001b[0m  \u001b[0;31m# get the next state\u001b[0m\u001b[0;34m\u001b[0m\u001b[0;34m\u001b[0m\u001b[0m\n\u001b[1;32m     43\u001b[0m             \u001b[0mdone\u001b[0m \u001b[0;34m=\u001b[0m \u001b[0menv_info\u001b[0m\u001b[0;34m.\u001b[0m\u001b[0mlocal_done\u001b[0m\u001b[0;34m[\u001b[0m\u001b[0;36m0\u001b[0m\u001b[0;34m]\u001b[0m                  \u001b[0;31m# see if episode has finished\u001b[0m\u001b[0;34m\u001b[0m\u001b[0;34m\u001b[0m\u001b[0m\n",
      "\u001b[0;32m~/anaconda3/envs/drlnd/lib/python3.6/site-packages/unityagents/environment.py\u001b[0m in \u001b[0;36mstep\u001b[0;34m(self, vector_action, memory, text_action)\u001b[0m\n\u001b[1;32m    367\u001b[0m \u001b[0;34m\u001b[0m\u001b[0m\n\u001b[1;32m    368\u001b[0m             outputs = self.communicator.exchange(\n\u001b[0;32m--> 369\u001b[0;31m                 \u001b[0mself\u001b[0m\u001b[0;34m.\u001b[0m\u001b[0m_generate_step_input\u001b[0m\u001b[0;34m(\u001b[0m\u001b[0mvector_action\u001b[0m\u001b[0;34m,\u001b[0m \u001b[0mmemory\u001b[0m\u001b[0;34m,\u001b[0m \u001b[0mtext_action\u001b[0m\u001b[0;34m)\u001b[0m\u001b[0;34m\u001b[0m\u001b[0;34m\u001b[0m\u001b[0m\n\u001b[0m\u001b[1;32m    370\u001b[0m             )\n\u001b[1;32m    371\u001b[0m             \u001b[0;32mif\u001b[0m \u001b[0moutputs\u001b[0m \u001b[0;32mis\u001b[0m \u001b[0;32mNone\u001b[0m\u001b[0;34m:\u001b[0m\u001b[0;34m\u001b[0m\u001b[0;34m\u001b[0m\u001b[0m\n",
      "\u001b[0;32m~/anaconda3/envs/drlnd/lib/python3.6/site-packages/unityagents/rpc_communicator.py\u001b[0m in \u001b[0;36mexchange\u001b[0;34m(self, inputs)\u001b[0m\n\u001b[1;32m     76\u001b[0m         \u001b[0mmessage\u001b[0m\u001b[0;34m.\u001b[0m\u001b[0munity_input\u001b[0m\u001b[0;34m.\u001b[0m\u001b[0mCopyFrom\u001b[0m\u001b[0;34m(\u001b[0m\u001b[0minputs\u001b[0m\u001b[0;34m)\u001b[0m\u001b[0;34m\u001b[0m\u001b[0;34m\u001b[0m\u001b[0m\n\u001b[1;32m     77\u001b[0m         \u001b[0mself\u001b[0m\u001b[0;34m.\u001b[0m\u001b[0munity_to_external\u001b[0m\u001b[0;34m.\u001b[0m\u001b[0mparent_conn\u001b[0m\u001b[0;34m.\u001b[0m\u001b[0msend\u001b[0m\u001b[0;34m(\u001b[0m\u001b[0mmessage\u001b[0m\u001b[0;34m)\u001b[0m\u001b[0;34m\u001b[0m\u001b[0;34m\u001b[0m\u001b[0m\n\u001b[0;32m---> 78\u001b[0;31m         \u001b[0moutput\u001b[0m \u001b[0;34m=\u001b[0m \u001b[0mself\u001b[0m\u001b[0;34m.\u001b[0m\u001b[0munity_to_external\u001b[0m\u001b[0;34m.\u001b[0m\u001b[0mparent_conn\u001b[0m\u001b[0;34m.\u001b[0m\u001b[0mrecv\u001b[0m\u001b[0;34m(\u001b[0m\u001b[0;34m)\u001b[0m\u001b[0;34m\u001b[0m\u001b[0;34m\u001b[0m\u001b[0m\n\u001b[0m\u001b[1;32m     79\u001b[0m         \u001b[0;32mif\u001b[0m \u001b[0moutput\u001b[0m\u001b[0;34m.\u001b[0m\u001b[0mheader\u001b[0m\u001b[0;34m.\u001b[0m\u001b[0mstatus\u001b[0m \u001b[0;34m!=\u001b[0m \u001b[0;36m200\u001b[0m\u001b[0;34m:\u001b[0m\u001b[0;34m\u001b[0m\u001b[0;34m\u001b[0m\u001b[0m\n\u001b[1;32m     80\u001b[0m             \u001b[0;32mreturn\u001b[0m \u001b[0;32mNone\u001b[0m\u001b[0;34m\u001b[0m\u001b[0;34m\u001b[0m\u001b[0m\n",
      "\u001b[0;32m~/anaconda3/envs/drlnd/lib/python3.6/multiprocessing/connection.py\u001b[0m in \u001b[0;36mrecv\u001b[0;34m(self)\u001b[0m\n\u001b[1;32m    248\u001b[0m         \u001b[0mself\u001b[0m\u001b[0;34m.\u001b[0m\u001b[0m_check_closed\u001b[0m\u001b[0;34m(\u001b[0m\u001b[0;34m)\u001b[0m\u001b[0;34m\u001b[0m\u001b[0;34m\u001b[0m\u001b[0m\n\u001b[1;32m    249\u001b[0m         \u001b[0mself\u001b[0m\u001b[0;34m.\u001b[0m\u001b[0m_check_readable\u001b[0m\u001b[0;34m(\u001b[0m\u001b[0;34m)\u001b[0m\u001b[0;34m\u001b[0m\u001b[0;34m\u001b[0m\u001b[0m\n\u001b[0;32m--> 250\u001b[0;31m         \u001b[0mbuf\u001b[0m \u001b[0;34m=\u001b[0m \u001b[0mself\u001b[0m\u001b[0;34m.\u001b[0m\u001b[0m_recv_bytes\u001b[0m\u001b[0;34m(\u001b[0m\u001b[0;34m)\u001b[0m\u001b[0;34m\u001b[0m\u001b[0;34m\u001b[0m\u001b[0m\n\u001b[0m\u001b[1;32m    251\u001b[0m         \u001b[0;32mreturn\u001b[0m \u001b[0m_ForkingPickler\u001b[0m\u001b[0;34m.\u001b[0m\u001b[0mloads\u001b[0m\u001b[0;34m(\u001b[0m\u001b[0mbuf\u001b[0m\u001b[0;34m.\u001b[0m\u001b[0mgetbuffer\u001b[0m\u001b[0;34m(\u001b[0m\u001b[0;34m)\u001b[0m\u001b[0;34m)\u001b[0m\u001b[0;34m\u001b[0m\u001b[0;34m\u001b[0m\u001b[0m\n\u001b[1;32m    252\u001b[0m \u001b[0;34m\u001b[0m\u001b[0m\n",
      "\u001b[0;32m~/anaconda3/envs/drlnd/lib/python3.6/multiprocessing/connection.py\u001b[0m in \u001b[0;36m_recv_bytes\u001b[0;34m(self, maxsize)\u001b[0m\n\u001b[1;32m    405\u001b[0m \u001b[0;34m\u001b[0m\u001b[0m\n\u001b[1;32m    406\u001b[0m     \u001b[0;32mdef\u001b[0m \u001b[0m_recv_bytes\u001b[0m\u001b[0;34m(\u001b[0m\u001b[0mself\u001b[0m\u001b[0;34m,\u001b[0m \u001b[0mmaxsize\u001b[0m\u001b[0;34m=\u001b[0m\u001b[0;32mNone\u001b[0m\u001b[0;34m)\u001b[0m\u001b[0;34m:\u001b[0m\u001b[0;34m\u001b[0m\u001b[0;34m\u001b[0m\u001b[0m\n\u001b[0;32m--> 407\u001b[0;31m         \u001b[0mbuf\u001b[0m \u001b[0;34m=\u001b[0m \u001b[0mself\u001b[0m\u001b[0;34m.\u001b[0m\u001b[0m_recv\u001b[0m\u001b[0;34m(\u001b[0m\u001b[0;36m4\u001b[0m\u001b[0;34m)\u001b[0m\u001b[0;34m\u001b[0m\u001b[0;34m\u001b[0m\u001b[0m\n\u001b[0m\u001b[1;32m    408\u001b[0m         \u001b[0msize\u001b[0m\u001b[0;34m,\u001b[0m \u001b[0;34m=\u001b[0m \u001b[0mstruct\u001b[0m\u001b[0;34m.\u001b[0m\u001b[0munpack\u001b[0m\u001b[0;34m(\u001b[0m\u001b[0;34m\"!i\"\u001b[0m\u001b[0;34m,\u001b[0m \u001b[0mbuf\u001b[0m\u001b[0;34m.\u001b[0m\u001b[0mgetvalue\u001b[0m\u001b[0;34m(\u001b[0m\u001b[0;34m)\u001b[0m\u001b[0;34m)\u001b[0m\u001b[0;34m\u001b[0m\u001b[0;34m\u001b[0m\u001b[0m\n\u001b[1;32m    409\u001b[0m         \u001b[0;32mif\u001b[0m \u001b[0mmaxsize\u001b[0m \u001b[0;32mis\u001b[0m \u001b[0;32mnot\u001b[0m \u001b[0;32mNone\u001b[0m \u001b[0;32mand\u001b[0m \u001b[0msize\u001b[0m \u001b[0;34m>\u001b[0m \u001b[0mmaxsize\u001b[0m\u001b[0;34m:\u001b[0m\u001b[0;34m\u001b[0m\u001b[0;34m\u001b[0m\u001b[0m\n",
      "\u001b[0;32m~/anaconda3/envs/drlnd/lib/python3.6/multiprocessing/connection.py\u001b[0m in \u001b[0;36m_recv\u001b[0;34m(self, size, read)\u001b[0m\n\u001b[1;32m    377\u001b[0m         \u001b[0mremaining\u001b[0m \u001b[0;34m=\u001b[0m \u001b[0msize\u001b[0m\u001b[0;34m\u001b[0m\u001b[0;34m\u001b[0m\u001b[0m\n\u001b[1;32m    378\u001b[0m         \u001b[0;32mwhile\u001b[0m \u001b[0mremaining\u001b[0m \u001b[0;34m>\u001b[0m \u001b[0;36m0\u001b[0m\u001b[0;34m:\u001b[0m\u001b[0;34m\u001b[0m\u001b[0;34m\u001b[0m\u001b[0m\n\u001b[0;32m--> 379\u001b[0;31m             \u001b[0mchunk\u001b[0m \u001b[0;34m=\u001b[0m \u001b[0mread\u001b[0m\u001b[0;34m(\u001b[0m\u001b[0mhandle\u001b[0m\u001b[0;34m,\u001b[0m \u001b[0mremaining\u001b[0m\u001b[0;34m)\u001b[0m\u001b[0;34m\u001b[0m\u001b[0;34m\u001b[0m\u001b[0m\n\u001b[0m\u001b[1;32m    380\u001b[0m             \u001b[0mn\u001b[0m \u001b[0;34m=\u001b[0m \u001b[0mlen\u001b[0m\u001b[0;34m(\u001b[0m\u001b[0mchunk\u001b[0m\u001b[0;34m)\u001b[0m\u001b[0;34m\u001b[0m\u001b[0;34m\u001b[0m\u001b[0m\n\u001b[1;32m    381\u001b[0m             \u001b[0;32mif\u001b[0m \u001b[0mn\u001b[0m \u001b[0;34m==\u001b[0m \u001b[0;36m0\u001b[0m\u001b[0;34m:\u001b[0m\u001b[0;34m\u001b[0m\u001b[0;34m\u001b[0m\u001b[0m\n",
      "\u001b[0;31mKeyboardInterrupt\u001b[0m: "
     ]
    }
   ],
   "source": [
    "from unityagents import UnityEnvironment\n",
    "import numpy as np\n",
    "env = UnityEnvironment(file_name=\"Banana_Linux/Banana.x86_64\")\n",
    "#env = UnityEnvironment(file_name=\"Banana.app\")\n",
    "\n",
    "import torch\n",
    "from lib.agents import AgentExerperienceReplay, AgentPrioritizedExperience\n",
    "\n",
    "# get the default brain\n",
    "brain_name = env.brain_names[0]\n",
    "brain = env.brains[brain_name]\n",
    "\n",
    "# number of actions\n",
    "action_size = brain.vector_action_space_size\n",
    "print('Number of actions:', action_size)\n",
    "\n",
    "import matplotlib.pyplot as plt\n",
    "%matplotlib inline\n",
    "\n",
    "from lib.dqn import dqn\n",
    "\n",
    "# reset the environment\n",
    "env_info = env.reset(train_mode=False)[brain_name]\n",
    "\n",
    "# number of agents in the environment\n",
    "print('Number of agents:', len(env_info.agents))\n",
    "\n",
    "# examine the state space \n",
    "state = env_info.vector_observations[0]\n",
    "print('States look like:', state)\n",
    "state_size = len(state)\n",
    "print('States have length:', state_size)\n",
    "\n",
    "\n",
    "agents = []\n",
    "\n",
    "agent = AgentExerperienceReplay(state_size=state_size, action_size=action_size, seed=0, train_mode=False)\n",
    "#agent.load_model('qnetwork')\n",
    "agents.append({'agent': agent, \n",
    "               'name': 'qnetwork', \n",
    "               'test': False,\n",
    "              })\n",
    "\n",
    "agent = AgentPrioritizedExperience(state_size=state_size, action_size=action_size, seed=0,\n",
    "                                   prioritized_experience=True,\n",
    "                                   compute_weights=True,\n",
    "                                   train_mode=False)\n",
    "\n",
    "\n",
    "agents.append({'agent': agent, 'name': 'ddqn_with_prioritized_experiences_qnetwork', 'test': True})\n",
    "\n",
    "agent = AgentPrioritizedExperience(state_size=state_size, action_size=action_size, seed=0,\n",
    "                                   prioritized_experience=True,\n",
    "                                   compute_weights=True,\n",
    "                                   train_mode=False)\n",
    "\n",
    "\n",
    "agents.append({'agent': agent, 'name': 'dueling_ddqn_with_prioritized_experiences_qnetwork', 'test': True})\n",
    "\n",
    "for info in agents:\n",
    "    if info['test']:\n",
    "        print('Testing', info['name'])\n",
    "        info['agent'].load_model(info['name'])\n",
    "        info['scores'] = dqn(env,\n",
    "                             brain_name,\n",
    "                             info['agent'], \n",
    "                             train_mode=False, \n",
    "                             n_episodes=100, \n",
    "                             eps_start=0.01,\n",
    "                             checkpoint=13)\n",
    "\n",
    "\n"
   ]
  },
  {
   "cell_type": "code",
   "execution_count": 1,
   "id": "99618590",
   "metadata": {},
   "outputs": [
    {
     "name": "stderr",
     "output_type": "stream",
     "text": [
      "INFO:unityagents:\n",
      "'Academy' started successfully!\n",
      "Unity Academy name: Academy\n",
      "        Number of Brains: 1\n",
      "        Number of External Brains : 1\n",
      "        Lesson number : 0\n",
      "        Reset Parameters :\n",
      "\t\t\n",
      "Unity brain name: BananaBrain\n",
      "        Number of Visual Observations (per agent): 0\n",
      "        Vector Observation space type: continuous\n",
      "        Vector Observation space size (per agent): 37\n",
      "        Number of stacked Vector Observation: 1\n",
      "        Vector Action space type: discrete\n",
      "        Vector Action space size (per agent): 4\n",
      "        Vector Action descriptions: , , , \n"
     ]
    },
    {
     "name": "stdout",
     "output_type": "stream",
     "text": [
      "Number of actions: 4\n",
      "Number of agents: 1\n",
      "States look like: [1.         0.         0.         0.         0.84408134 0.\n",
      " 0.         1.         0.         0.0748472  0.         1.\n",
      " 0.         0.         0.25755    1.         0.         0.\n",
      " 0.         0.74177343 0.         1.         0.         0.\n",
      " 0.25854847 0.         0.         1.         0.         0.09355672\n",
      " 0.         1.         0.         0.         0.31969345 0.\n",
      " 0.        ]\n",
      "States have length: 37\n"
     ]
    }
   ],
   "source": [
    "from unityagents import UnityEnvironment\n",
    "import numpy as np\n",
    "import torch\n",
    "from lib.agents import AgentExperienceReplay, AgentPrioritizedExperienceReplay\n",
    "from lib.models import QNetwork, DuelingQNetwork\n",
    "\n",
    "\n",
    "env = UnityEnvironment(file_name=\"Banana_Linux/Banana.x86_64\")\n",
    "#env = UnityEnvironment(file_name=\"Banana.app\")\n",
    "\n",
    "\n",
    "# get the default brain\n",
    "brain_name = env.brain_names[0]\n",
    "brain = env.brains[brain_name]\n",
    "\n",
    "# number of actions\n",
    "action_size = brain.vector_action_space_size\n",
    "print('Number of actions:', action_size)\n",
    "\n",
    "import matplotlib.pyplot as plt\n",
    "%matplotlib inline\n",
    "\n",
    "from lib.dqn import dqn\n",
    "\n",
    "# reset the environment\n",
    "env_info = env.reset(train_mode=False)[brain_name]\n",
    "\n",
    "# number of agents in the environment\n",
    "print('Number of agents:', len(env_info.agents))\n",
    "\n",
    "# examine the state space \n",
    "state = env_info.vector_observations[0]\n",
    "print('States look like:', state)\n",
    "state_size = len(state)\n",
    "print('States have length:', state_size)\n",
    "\n",
    "def create_dueling_model(state_size, action_size, seed):\n",
    "    return DuelingQNetwork(state_size, action_size, seed)\n",
    "\n",
    "def create_linear_model(state_size, action_size, seed):\n",
    "    return QNetwork(state_size, action_size, seed)\n"
   ]
  },
  {
   "cell_type": "markdown",
   "id": "491b18b3",
   "metadata": {},
   "source": [
    "### Dueling Network with Double Q-learning and Prioritized experience replay"
   ]
  },
  {
   "cell_type": "code",
   "execution_count": 2,
   "id": "02132b01",
   "metadata": {},
   "outputs": [
    {
     "name": "stdout",
     "output_type": "stream",
     "text": [
      "Episode 100\tAverage Score: 12.85\n"
     ]
    },
    {
     "data": {
      "image/png": "[encoded data removed]",
      "text/plain": [
       "<Figure size 432x288 with 1 Axes>"
      ]
     },
     "metadata": {
      "needs_background": "light"
     },
     "output_type": "display_data"
    }
   ],
   "source": [
    "env_info = env.reset(train_mode=False)[brain_name]\n",
    "\n",
    "agent_name = 'prioritized_experiences_dueling_network_double'\n",
    "agent = AgentPrioritizedExperienceReplay(state_size=state_size, action_size=action_size, seed=0, \n",
    "                                         create_model=create_dueling_model,\n",
    "                                         double_dqn=True,\n",
    "                                         train_mode=False\n",
    "                                         )\n",
    "agent.load_model(agent_name)\n",
    "\n",
    "\n",
    "scores = dqn(env,\n",
    "             brain_name,\n",
    "             agent,\n",
    "             train_mode=False,\n",
    "             n_episodes=100, \n",
    "             eps_start=0.01)\n",
    "\n",
    "# plot the scores\n",
    "fig = plt.figure()\n",
    "ax = fig.add_subplot(111)\n",
    "plt.plot(np.arange(len(scores)), scores)\n",
    "plt.ylabel('Score')\n",
    "plt.xlabel('Episode #')\n",
    "plt.show()\n"
   ]
  },
  {
   "cell_type": "markdown",
   "id": "625a22c8",
   "metadata": {},
   "source": [
    "### Dueling Network with Prioritized experience replay"
   ]
  },
  {
   "cell_type": "code",
   "execution_count": null,
   "id": "c17fd273",
   "metadata": {},
   "outputs": [
    {
     "name": "stdout",
     "output_type": "stream",
     "text": [
      "Episode 65\tAverage Score: 10.51"
     ]
    }
   ],
   "source": [
    "env_info = env.reset(train_mode=False)[brain_name]\n",
    "\n",
    "agent_name = 'prioritized_experiences_dueling_network'\n",
    "agent = AgentPrioritizedExperienceReplay(state_size=state_size, action_size=action_size, seed=0, \n",
    "                                         create_model=create_dueling_model,\n",
    "                                         double_dqn=False,\n",
    "                                         train_mode=False\n",
    "                                         )\n",
    "agent.load_model(agent_name)\n",
    "\n",
    "\n",
    "scores = dqn(env,\n",
    "             brain_name,\n",
    "             agent,\n",
    "             train_mode=False,\n",
    "             n_episodes=100, \n",
    "             eps_start=0.01)\n",
    "\n",
    "# plot the scores\n",
    "fig = plt.figure()\n",
    "ax = fig.add_subplot(111)\n",
    "plt.plot(np.arange(len(scores)), scores)\n",
    "plt.ylabel('Score')\n",
    "plt.xlabel('Episode #')\n",
    "plt.show()"
   ]
  },
  {
   "cell_type": "markdown",
   "id": "85a58ec4",
   "metadata": {},
   "source": [
    "### Linear Network with Double Q-learning and Prioritized experience replay"
   ]
  },
  {
   "cell_type": "code",
   "execution_count": null,
   "id": "686d7aff",
   "metadata": {},
   "outputs": [],
   "source": [
    "env_info = env.reset(train_mode=False)[brain_name]\n",
    "\n",
    "agent_name = 'prioritized_experiences_linear_network'\n",
    "agent = AgentPrioritizedExperienceReplay(state_size=state_size, action_size=action_size, seed=0, \n",
    "                                         create_model=create_linear_model,\n",
    "                                         double_dqn=True,\n",
    "                                         train_mode=False\n",
    "                                         )\n",
    "agent.load_model(agent_name)\n",
    "\n",
    "\n",
    "scores = dqn(env,\n",
    "             brain_name,\n",
    "             agent,\n",
    "             train_mode=False,\n",
    "             n_episodes=100, \n",
    "             eps_start=0.01)\n",
    "\n",
    "# plot the scores\n",
    "fig = plt.figure()\n",
    "ax = fig.add_subplot(111)\n",
    "plt.plot(np.arange(len(scores)), scores)\n",
    "plt.ylabel('Score')\n",
    "plt.xlabel('Episode #')\n",
    "plt.show()"
   ]
  },
  {
   "cell_type": "markdown",
   "id": "d1400789",
   "metadata": {},
   "source": [
    "### Linear Network with Prioritized experience replay"
   ]
  },
  {
   "cell_type": "code",
   "execution_count": null,
   "id": "49723b63",
   "metadata": {},
   "outputs": [],
   "source": [
    "env_info = env.reset(train_mode=False)[brain_name]\n",
    "\n",
    "agent_name = 'prioritized_experiences_linear_network'\n",
    "agent = AgentPrioritizedExperienceReplay(state_size=state_size, action_size=action_size, seed=0, \n",
    "                                         create_model=create_linear_model,\n",
    "                                         double_dqn=False,\n",
    "                                         train_mode=False\n",
    "                                         )\n",
    "agent.load_model(agent_name)\n",
    "\n",
    "\n",
    "scores = dqn(env,\n",
    "             brain_name,\n",
    "             agent,\n",
    "             train_mode=False,\n",
    "             n_episodes=100, \n",
    "             eps_start=0.01)\n",
    "\n",
    "# plot the scores\n",
    "fig = plt.figure()\n",
    "ax = fig.add_subplot(111)\n",
    "plt.plot(np.arange(len(scores)), scores)\n",
    "plt.ylabel('Score')\n",
    "plt.xlabel('Episode #')\n",
    "plt.show()"
   ]
  },
  {
   "cell_type": "markdown",
   "id": "a629e165",
   "metadata": {},
   "source": [
    "### Dueling Network with Double Q-learning random experience replay"
   ]
  },
  {
   "cell_type": "code",
   "execution_count": null,
   "id": "eb72196a",
   "metadata": {},
   "outputs": [],
   "source": [
    "env_info = env.reset(train_mode=False)[brain_name]\n",
    "\n",
    "agent_name = ''\n",
    "agent = AgentPrioritizedExperienceReplay(state_size=state_size, action_size=action_size, seed=0, \n",
    "                                         create_model=create_dueling_model,\n",
    "                                         double_dqn=True,\n",
    "                                         train_mode=False\n",
    "                                         )\n",
    "agent.load_model(agent_name)\n",
    "\n",
    "\n",
    "scores = dqn(env,\n",
    "             brain_name,\n",
    "             agent,\n",
    "             train_mode=False,\n",
    "             n_episodes=100, \n",
    "             eps_start=0.01)\n",
    "\n",
    "# plot the scores\n",
    "fig = plt.figure()\n",
    "ax = fig.add_subplot(111)\n",
    "plt.plot(np.arange(len(scores)), scores)\n",
    "plt.ylabel('Score')\n",
    "plt.xlabel('Episode #')\n",
    "plt.show()"
   ]
  },
  {
   "cell_type": "markdown",
   "id": "737ee28b",
   "metadata": {},
   "source": [
    "### Dueling Network  random experience replay"
   ]
  },
  {
   "cell_type": "code",
   "execution_count": null,
   "id": "a515c43d",
   "metadata": {},
   "outputs": [],
   "source": [
    "env_info = env.reset(train_mode=False)[brain_name]\n",
    "\n",
    "agent_name = ''\n",
    "agent = AgentPrioritizedExperienceReplay(state_size=state_size, action_size=action_size, seed=0, \n",
    "                                         create_model=create_dueling_model,\n",
    "                                         double_dqn=False,\n",
    "                                         train_mode=False\n",
    "                                         )\n",
    "agent.load_model(agent_name)\n",
    "\n",
    "\n",
    "scores = dqn(env,\n",
    "             brain_name,\n",
    "             agent,\n",
    "             train_mode=False,\n",
    "             n_episodes=100, \n",
    "             eps_start=0.01)\n",
    "\n",
    "# plot the scores\n",
    "fig = plt.figure()\n",
    "ax = fig.add_subplot(111)\n",
    "plt.plot(np.arange(len(scores)), scores)\n",
    "plt.ylabel('Score')\n",
    "plt.xlabel('Episode #')\n",
    "plt.show()"
   ]
  },
  {
   "cell_type": "markdown",
   "id": "7b4a3da2",
   "metadata": {},
   "source": [
    "### Linear Network with Double Q-learning random experience replay"
   ]
  },
  {
   "cell_type": "code",
   "execution_count": null,
   "id": "c838c2e8",
   "metadata": {},
   "outputs": [],
   "source": [
    "env_info = env.reset(train_mode=False)[brain_name]\n",
    "\n",
    "agent_name = ''\n",
    "agent = AgentPrioritizedExperienceReplay(state_size=state_size, action_size=action_size, seed=0, \n",
    "                                         create_model=create_linear_model,\n",
    "                                         double_dqn=True,\n",
    "                                         train_mode=False\n",
    "                                         )\n",
    "agent.load_model(agent_name)\n",
    "\n",
    "\n",
    "scores = dqn(env,\n",
    "             brain_name,\n",
    "             agent,\n",
    "             train_mode=False,\n",
    "             n_episodes=100, \n",
    "             eps_start=0.01)\n",
    "\n",
    "# plot the scores\n",
    "fig = plt.figure()\n",
    "ax = fig.add_subplot(111)\n",
    "plt.plot(np.arange(len(scores)), scores)\n",
    "plt.ylabel('Score')\n",
    "plt.xlabel('Episode #')\n",
    "plt.show()"
   ]
  },
  {
   "cell_type": "markdown",
   "id": "362dcceb",
   "metadata": {},
   "source": [
    "### Linear Network with random experience replay"
   ]
  },
  {
   "cell_type": "code",
   "execution_count": null,
   "id": "f594e869",
   "metadata": {},
   "outputs": [],
   "source": [
    "env_info = env.reset(train_mode=False)[brain_name]\n",
    "\n",
    "agent_name = ''\n",
    "agent = AgentPrioritizedExperienceReplay(state_size=state_size, action_size=action_size, seed=0, \n",
    "                                         create_model=create_linear_model,\n",
    "                                         double_dqn=False,\n",
    "                                         train_mode=False\n",
    "                                         )\n",
    "agent.load_model(agent_name)\n",
    "\n",
    "\n",
    "scores = dqn(env,\n",
    "             brain_name,\n",
    "             agent,\n",
    "             train_mode=False,\n",
    "             n_episodes=100, \n",
    "             eps_start=0.01)\n",
    "\n",
    "# plot the scores\n",
    "fig = plt.figure()\n",
    "ax = fig.add_subplot(111)\n",
    "plt.plot(np.arange(len(scores)), scores)\n",
    "plt.ylabel('Score')\n",
    "plt.xlabel('Episode #')\n",
    "plt.show()"
   ]
  },
  {
   "cell_type": "markdown",
   "id": "95d79003",
   "metadata": {},
   "source": [
    "## Ideas for future work\n",
    "\n",
    "### Experiment with a greater variety of network models\n",
    "A lot more experimenting with different models is needed\n",
    "\n",
    "### Using a DQN to 'learn' the best parameters\n",
    "\n",
    "It feels like there is a lot of trial and error in order to determine the best architecture (e.g. network model, double q-learning etc) and hyperparameters. Would it be possible to define a DQN that could be used to determine what were the best set of values. Parameter values could be limited to discrete values so that the state space was managable. The reward could be the average score from a number of episodes of the game.\n",
    "\n",
    "### Effective testing of subcomponents\n",
    "\n",
    "With a lot of software, bugs are very obvious. With ML code it's possible to implement features, e.g. prioritized experience replay, which appear to 'work', in so much that the agent learns, but the implementation may not perform as intended. Whilst this issue is not limited to ML code, it does seem particularly vulnerable as some components may be difficult to verify.\n",
    "\n",
    "### Image based navigation (pixel navigation)\n",
    "\n",
    "I started to explore using an image of the game as the state, although ran out of time to actually solve it. I did wonder if you used a different reward than that provided by the environment. For example what if the reward was based on how yellow or blue (perhaps using the dot product to measure the yellowness/blueness), how would this effect the performance of the agent.\n"
   ]
  }
 ],
 "metadata": {
  "kernelspec": {
   "display_name": "drlnd",
   "language": "python",
   "name": "drlnd"
  },
  "language_info": {
   "codemirror_mode": {
    "name": "ipython",
    "version": 3
   },
   "file_extension": ".py",
   "mimetype": "text/x-python",
   "name": "python",
   "nbconvert_exporter": "python",
   "pygments_lexer": "ipython3",
   "version": "3.6.13"
  }
 },
 "nbformat": 4,
 "nbformat_minor": 5
}
